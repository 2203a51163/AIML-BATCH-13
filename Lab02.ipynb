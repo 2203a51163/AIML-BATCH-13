{
  "nbformat": 4,
  "nbformat_minor": 0,
  "metadata": {
    "colab": {
      "provenance": [],
      "authorship_tag": "ABX9TyNugUV8y3R4sQHxOhs7QKts",
      "include_colab_link": true
    },
    "kernelspec": {
      "name": "python3",
      "display_name": "Python 3"
    },
    "language_info": {
      "name": "python"
    }
  },
  "cells": [
    {
      "cell_type": "markdown",
      "metadata": {
        "id": "view-in-github",
        "colab_type": "text"
      },
      "source": [
        "<a href=\"https://colab.research.google.com/github/2203a51163/AIML-BATCH-13/blob/main/Lab02.ipynb\" target=\"_parent\"><img src=\"https://colab.research.google.com/assets/colab-badge.svg\" alt=\"Open In Colab\"/></a>"
      ]
    },
    {
      "cell_type": "markdown",
      "source": [
        "## lab-02 : implement AI search"
      ],
      "metadata": {
        "id": "EIjm9tnkkUNi"
      }
    },
    {
      "cell_type": "code",
      "source": [
        "import numpy as np"
      ],
      "metadata": {
        "id": "pmLpOSKEkmXO"
      },
      "execution_count": 1,
      "outputs": []
    },
    {
      "cell_type": "code",
      "source": [
        "from queue import Queue\n",
        "\n",
        "graph={0: [1,2,3], 1:[0,2], 2:[0,1,5], 3:[0,2,4], 4:[3,5,7], 5:[4,6,7], 6:[5,7], 7:[4,5,6],8:[]}\n",
        "print(\"the adjaceny list representing the graph is:\")\n",
        "print(graph)"
      ],
      "metadata": {
        "colab": {
          "base_uri": "https://localhost:8080/"
        },
        "id": "1RteXWkvktcO",
        "outputId": "ca117d29-a3da-4a4b-802f-308ac3916fd8"
      },
      "execution_count": 2,
      "outputs": [
        {
          "output_type": "stream",
          "name": "stdout",
          "text": [
            "the adjaceny list representing the graph is:\n",
            "{0: [1, 2, 3], 1: [0, 2], 2: [0, 1, 5], 3: [0, 2, 4], 4: [3, 5, 7], 5: [4, 6, 7], 6: [5, 7], 7: [4, 5, 6], 8: []}\n"
          ]
        }
      ]
    },
    {
      "cell_type": "code",
      "source": [
        "  def bfs(graph, source):\n",
        "      Q=Queue()\n",
        "      visited_vertices=set()\n",
        "      Q.put(source)\n",
        "      visited_vertices.update({source})\n",
        "      while not Q.empty():\n",
        "        vertex=Q.get()\n",
        "        print(vertex, end='-->')\n",
        "        for u in graph[vertex]:\n",
        "          if u not in visited_vertices:\n",
        "              Q.put(u)\n",
        "              visited_vertices.update({u})\n",
        "\n",
        "print(\"BFS traversal of graph with source 0 is:\")\n",
        "bfs(graph, 0)\n"
      ],
      "metadata": {
        "colab": {
          "base_uri": "https://localhost:8080/"
        },
        "id": "hdM2ERnpnEaT",
        "outputId": "dd36d380-0267-442c-a489-a9c38a6a05a8"
      },
      "execution_count": 3,
      "outputs": [
        {
          "output_type": "stream",
          "name": "stdout",
          "text": [
            "BFS traversal of graph with source 0 is:\n",
            "0-->1-->2-->3-->5-->4-->6-->7-->"
          ]
        }
      ]
    },
    {
      "cell_type": "markdown",
      "source": [
        "part 02: implement depth first search algoritm"
      ],
      "metadata": {
        "id": "6E3DZT5XswPH"
      }
    },
    {
      "cell_type": "code",
      "source": [
        "graph1 = {\n",
        "    'A' : ['C','D','G'],\n",
        "    'B' : ['A'],\n",
        "    'C' : ['A','D','F'],\n",
        "    'D' : ['A','C','E','G','H'],\n",
        "    'E' : ['D','F','H'],\n",
        "    'F' : ['C','E'],\n",
        "    'G' : ['D','A','H'],\n",
        "    'H' : ['D','E','G'],\n",
        "    }\n",
        "print(\"THE ADJACENCY LIST REPRESENTING THE GRAPH IS:\")\n",
        "print(graph1)"
      ],
      "metadata": {
        "colab": {
          "base_uri": "https://localhost:8080/"
        },
        "id": "4vBCIe23s4_m",
        "outputId": "019dc139-0aa4-4a98-9633-7a8678ba5568"
      },
      "execution_count": 4,
      "outputs": [
        {
          "output_type": "stream",
          "name": "stdout",
          "text": [
            "THE ADJACENCY LIST REPRESENTING THE GRAPH IS:\n",
            "{'A': ['C', 'D', 'G'], 'B': ['A'], 'C': ['A', 'D', 'F'], 'D': ['A', 'C', 'E', 'G', 'H'], 'E': ['D', 'F', 'H'], 'F': ['C', 'E'], 'G': ['D', 'A', 'H'], 'H': ['D', 'E', 'G']}\n"
          ]
        }
      ]
    },
    {
      "cell_type": "code",
      "source": [
        "def dfs(graph, node, visited):\n",
        "    if node not in visited:\n",
        "      visited.append(node)\n",
        "      for k in graph[node]:\n",
        "          dfs(graph,k, visited)\n",
        "    return visited\n",
        "\n",
        "visited = dfs(graph1, 'B', [])\n",
        "print(visited)"
      ],
      "metadata": {
        "colab": {
          "base_uri": "https://localhost:8080/"
        },
        "id": "Bz5-28UBvai1",
        "outputId": "cde28053-9ec8-44a5-bfe6-812af934d1dd"
      },
      "execution_count": 5,
      "outputs": [
        {
          "output_type": "stream",
          "name": "stdout",
          "text": [
            "['B', 'A', 'C', 'D', 'E', 'F', 'H', 'G']\n"
          ]
        }
      ]
    }
  ]
}